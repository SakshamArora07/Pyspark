{
  "nbformat": 4,
  "nbformat_minor": 0,
  "metadata": {
    "colab": {
      "provenance": []
    },
    "kernelspec": {
      "name": "python3",
      "display_name": "Python 3"
    },
    "language_info": {
      "name": "python"
    }
  },
  "cells": [
    {
      "cell_type": "code",
      "execution_count": 1,
      "metadata": {
        "colab": {
          "base_uri": "https://localhost:8080/"
        },
        "id": "UwcboObYF7Vg",
        "outputId": "985564c9-c544-4493-ccd5-09f97031d207"
      },
      "outputs": [
        {
          "output_type": "stream",
          "name": "stdout",
          "text": [
            "Requirement already satisfied: pyspark in /usr/local/lib/python3.10/dist-packages (3.5.1)\n",
            "Requirement already satisfied: py4j in /usr/local/lib/python3.10/dist-packages (0.10.9.7)\n"
          ]
        }
      ],
      "source": [
        "!pip install pyspark py4j"
      ]
    },
    {
      "cell_type": "code",
      "source": [
        "import pandas as pd\n",
        "import numpy as np\n",
        "import matplotlib.pyplot as plt\n",
        "\n",
        "import pyspark\n",
        "from pyspark.sql import SparkSession\n",
        "from pyspark.sql import functions as F\n",
        "from pyspark.sql.functions import col, avg\n",
        "from pyspark.context import SparkContext\n",
        "\n",
        "from pyspark.sql.types import DoubleType\n",
        "from pyspark.ml.feature import VectorAssembler\n",
        "from pyspark.ml.classification import DecisionTreeClassifier\n",
        "from pyspark.ml.evaluation import MulticlassClassificationEvaluator"
      ],
      "metadata": {
        "id": "c8wR3KwkG2zD"
      },
      "execution_count": 2,
      "outputs": []
    },
    {
      "cell_type": "code",
      "source": [
        "spark = SparkSession.builder.getOrCreate()\n",
        "spark.stop()"
      ],
      "metadata": {
        "id": "f67ZzAWKHe8t"
      },
      "execution_count": 3,
      "outputs": []
    },
    {
      "cell_type": "code",
      "source": [
        "spark = SparkSession.builder.config(\"spark.driver.memory\", \"16g\").getOrCreate()"
      ],
      "metadata": {
        "id": "YYYf1LtlJoTR"
      },
      "execution_count": 4,
      "outputs": []
    },
    {
      "cell_type": "code",
      "source": [
        "df = spark.read.csv(\"diabetes.csv\", header = True, inferSchema = True)\n",
        "df.show(10)"
      ],
      "metadata": {
        "id": "xK5oTfJfJ8_F",
        "colab": {
          "base_uri": "https://localhost:8080/"
        },
        "outputId": "881d0564-4988-4e77-98ff-e4ac8e9412ac"
      },
      "execution_count": 5,
      "outputs": [
        {
          "output_type": "stream",
          "name": "stdout",
          "text": [
            "+-----------+-------+-------------+-------------+-------+----+------------------------+---+-------+\n",
            "|Pregnancies|Glucose|BloodPressure|SkinThickness|Insulin| BMI|DiabetesPedigreeFunction|Age|Outcome|\n",
            "+-----------+-------+-------------+-------------+-------+----+------------------------+---+-------+\n",
            "|          6|    148|           72|           35|      0|33.6|                   0.627| 50|      1|\n",
            "|          1|     85|           66|           29|      0|26.6|                   0.351| 31|      0|\n",
            "|          8|    183|           64|            0|      0|23.3|                   0.672| 32|      1|\n",
            "|          1|     89|           66|           23|     94|28.1|                   0.167| 21|      0|\n",
            "|          0|    137|           40|           35|    168|43.1|                   2.288| 33|      1|\n",
            "|          5|    116|           74|            0|      0|25.6|                   0.201| 30|      0|\n",
            "|          3|     78|           50|           32|     88|31.0|                   0.248| 26|      1|\n",
            "|         10|    115|            0|            0|      0|35.3|                   0.134| 29|      0|\n",
            "|          2|    197|           70|           45|    543|30.5|                   0.158| 53|      1|\n",
            "|          8|    125|           96|            0|      0| 0.0|                   0.232| 54|      1|\n",
            "+-----------+-------+-------------+-------------+-------+----+------------------------+---+-------+\n",
            "only showing top 10 rows\n",
            "\n"
          ]
        }
      ]
    },
    {
      "cell_type": "code",
      "source": [
        "print(df.columns)"
      ],
      "metadata": {
        "id": "7dakpRW2tqSY",
        "colab": {
          "base_uri": "https://localhost:8080/"
        },
        "outputId": "d5e0c7bb-1546-4e1d-b211-5a95b39bee25"
      },
      "execution_count": 6,
      "outputs": [
        {
          "output_type": "stream",
          "name": "stdout",
          "text": [
            "['Pregnancies', 'Glucose', 'BloodPressure', 'SkinThickness', 'Insulin', 'BMI', 'DiabetesPedigreeFunction', 'Age', 'Outcome']\n"
          ]
        }
      ]
    },
    {
      "cell_type": "code",
      "source": [
        "colnames = [\"Pregnancies\", \"Glucose\", \"BloodPressure\", \"SkinThickness\", \"Insulin\", \"BMI\"] + \\\n",
        "           [\"DiabetesPedigreeFunction\",\"Age\", \"Outcome\"]\n"
      ],
      "metadata": {
        "id": "LdWBQcGWKKGp"
      },
      "execution_count": 7,
      "outputs": []
    },
    {
      "cell_type": "code",
      "source": [
        "print(colnames)\n",
        "\n",
        "print(df.printSchema())"
      ],
      "metadata": {
        "id": "wxdNxsvfM2Bv",
        "colab": {
          "base_uri": "https://localhost:8080/"
        },
        "outputId": "0be6ee6f-ce6a-46fa-dbcb-3ba1677e7f24"
      },
      "execution_count": 8,
      "outputs": [
        {
          "output_type": "stream",
          "name": "stdout",
          "text": [
            "['Pregnancies', 'Glucose', 'BloodPressure', 'SkinThickness', 'Insulin', 'BMI', 'DiabetesPedigreeFunction', 'Age', 'Outcome']\n",
            "root\n",
            " |-- Pregnancies: integer (nullable = true)\n",
            " |-- Glucose: integer (nullable = true)\n",
            " |-- BloodPressure: integer (nullable = true)\n",
            " |-- SkinThickness: integer (nullable = true)\n",
            " |-- Insulin: integer (nullable = true)\n",
            " |-- BMI: double (nullable = true)\n",
            " |-- DiabetesPedigreeFunction: double (nullable = true)\n",
            " |-- Age: integer (nullable = true)\n",
            " |-- Outcome: integer (nullable = true)\n",
            "\n",
            "None\n"
          ]
        }
      ]
    },
    {
      "cell_type": "code",
      "source": [
        "from pyspark.sql.types import DoubleType"
      ],
      "metadata": {
        "id": "24w35muHM-vo"
      },
      "execution_count": 9,
      "outputs": []
    },
    {
      "cell_type": "code",
      "source": [
        "data = df.toDF(*colnames).withColumn(\"Outcome\", col(\"Outcome\").cast(DoubleType()))"
      ],
      "metadata": {
        "id": "YoEKc8bndZTh"
      },
      "execution_count": 10,
      "outputs": []
    },
    {
      "cell_type": "code",
      "source": [
        "print(data.printSchema())"
      ],
      "metadata": {
        "id": "nrc6rmRAtfA0",
        "colab": {
          "base_uri": "https://localhost:8080/"
        },
        "outputId": "8d90eef8-0242-4450-f470-88e3b8a69705"
      },
      "execution_count": 11,
      "outputs": [
        {
          "output_type": "stream",
          "name": "stdout",
          "text": [
            "root\n",
            " |-- Pregnancies: integer (nullable = true)\n",
            " |-- Glucose: integer (nullable = true)\n",
            " |-- BloodPressure: integer (nullable = true)\n",
            " |-- SkinThickness: integer (nullable = true)\n",
            " |-- Insulin: integer (nullable = true)\n",
            " |-- BMI: double (nullable = true)\n",
            " |-- DiabetesPedigreeFunction: double (nullable = true)\n",
            " |-- Age: integer (nullable = true)\n",
            " |-- Outcome: double (nullable = true)\n",
            "\n",
            "None\n"
          ]
        }
      ]
    },
    {
      "cell_type": "code",
      "source": [
        "print(data.summary)"
      ],
      "metadata": {
        "id": "aXZG6PVXuDPC",
        "colab": {
          "base_uri": "https://localhost:8080/"
        },
        "outputId": "058a69b6-3c1f-4fbe-ffda-d58a24aa5c53"
      },
      "execution_count": 12,
      "outputs": [
        {
          "output_type": "stream",
          "name": "stdout",
          "text": [
            "<bound method DataFrame.summary of DataFrame[Pregnancies: int, Glucose: int, BloodPressure: int, SkinThickness: int, Insulin: int, BMI: double, DiabetesPedigreeFunction: double, Age: int, Outcome: double]>\n"
          ]
        }
      ]
    },
    {
      "cell_type": "code",
      "source": [
        "traindata, testdata = data.randomSplit([0.9, 0.1])"
      ],
      "metadata": {
        "id": "uKkYwqWwxPsX"
      },
      "execution_count": 13,
      "outputs": []
    },
    {
      "cell_type": "code",
      "source": [
        "from pyspark.ml.feature import VectorAssembler\n",
        "\n",
        "vectorassembler = VectorAssembler(inputCols = colnames[:-1], outputCol = \"featureVector\")\n",
        "traindata = vectorassembler.transform(traindata)\n",
        "\n",
        "traindata.select(\"featureVector\").show()\n"
      ],
      "metadata": {
        "id": "lhSv1N8_xjLZ",
        "colab": {
          "base_uri": "https://localhost:8080/"
        },
        "outputId": "ffb64808-37e6-4487-f25a-006ef7142252"
      },
      "execution_count": 14,
      "outputs": [
        {
          "output_type": "stream",
          "name": "stdout",
          "text": [
            "+--------------------+\n",
            "|       featureVector|\n",
            "+--------------------+\n",
            "|[0.0,57.0,60.0,0....|\n",
            "|[0.0,67.0,76.0,0....|\n",
            "|(8,[1,5,6,7],[73....|\n",
            "|[0.0,74.0,52.0,10...|\n",
            "|[0.0,78.0,88.0,29...|\n",
            "|[0.0,84.0,64.0,22...|\n",
            "|[0.0,84.0,82.0,31...|\n",
            "|[0.0,86.0,68.0,32...|\n",
            "|[0.0,91.0,68.0,32...|\n",
            "|[0.0,91.0,80.0,0....|\n",
            "|[0.0,93.0,60.0,0....|\n",
            "|[0.0,93.0,100.0,3...|\n",
            "|(8,[1,6,7],[94.0,...|\n",
            "|[0.0,94.0,70.0,27...|\n",
            "|[0.0,95.0,64.0,39...|\n",
            "|[0.0,95.0,80.0,45...|\n",
            "|[0.0,95.0,85.0,25...|\n",
            "|[0.0,97.0,64.0,36...|\n",
            "|[0.0,98.0,82.0,15...|\n",
            "|(8,[1,5,6,7],[99....|\n",
            "+--------------------+\n",
            "only showing top 20 rows\n",
            "\n"
          ]
        }
      ]
    },
    {
      "cell_type": "code",
      "source": [
        "from pyspark.ml.classification import DecisionTreeClassifier\n",
        "\n",
        "classifier = DecisionTreeClassifier(seed = 1234, labelCol = \"Outcome\", featuresCol = \"featureVector\", predictionCol = \"prediction\")\n",
        "model = classifier.fit(traindata)"
      ],
      "metadata": {
        "id": "HbYc6Xl8y2S_"
      },
      "execution_count": 15,
      "outputs": []
    },
    {
      "cell_type": "code",
      "source": [
        "print(model.toDebugString)"
      ],
      "metadata": {
        "id": "MEG_QNVJzwTU",
        "colab": {
          "base_uri": "https://localhost:8080/"
        },
        "outputId": "62b6cef7-3672-4210-a00c-77cf46e908d9"
      },
      "execution_count": 16,
      "outputs": [
        {
          "output_type": "stream",
          "name": "stdout",
          "text": [
            "DecisionTreeClassificationModel: uid=DecisionTreeClassifier_41e3c06ebc7e, depth=5, numNodes=49, numClasses=2, numFeatures=8\n",
            "  If (feature 1 <= 141.5)\n",
            "   If (feature 7 <= 28.5)\n",
            "    If (feature 1 <= 127.5)\n",
            "     If (feature 5 <= 30.75)\n",
            "      If (feature 0 <= 7.5)\n",
            "       Predict: 0.0\n",
            "      Else (feature 0 > 7.5)\n",
            "       Predict: 1.0\n",
            "     Else (feature 5 > 30.75)\n",
            "      Predict: 0.0\n",
            "    Else (feature 1 > 127.5)\n",
            "     If (feature 2 <= 57.0)\n",
            "      If (feature 3 <= 3.5)\n",
            "       Predict: 1.0\n",
            "      Else (feature 3 > 3.5)\n",
            "       Predict: 0.0\n",
            "     Else (feature 2 > 57.0)\n",
            "      If (feature 5 <= 42.150000000000006)\n",
            "       Predict: 0.0\n",
            "      Else (feature 5 > 42.150000000000006)\n",
            "       Predict: 1.0\n",
            "   Else (feature 7 > 28.5)\n",
            "    If (feature 5 <= 26.25)\n",
            "     If (feature 5 <= 20.05)\n",
            "      If (feature 0 <= 6.5)\n",
            "       Predict: 0.0\n",
            "      Else (feature 0 > 6.5)\n",
            "       Predict: 1.0\n",
            "     Else (feature 5 > 20.05)\n",
            "      Predict: 0.0\n",
            "    Else (feature 5 > 26.25)\n",
            "     If (feature 1 <= 107.5)\n",
            "      If (feature 4 <= 129.0)\n",
            "       Predict: 0.0\n",
            "      Else (feature 4 > 129.0)\n",
            "       Predict: 1.0\n",
            "     Else (feature 1 > 107.5)\n",
            "      If (feature 6 <= 0.5255000000000001)\n",
            "       Predict: 0.0\n",
            "      Else (feature 6 > 0.5255000000000001)\n",
            "       Predict: 1.0\n",
            "  Else (feature 1 > 141.5)\n",
            "   If (feature 1 <= 155.5)\n",
            "    If (feature 0 <= 6.5)\n",
            "     If (feature 6 <= 0.6725000000000001)\n",
            "      If (feature 6 <= 0.3315)\n",
            "       Predict: 0.0\n",
            "      Else (feature 6 > 0.3315)\n",
            "       Predict: 1.0\n",
            "     Else (feature 6 > 0.6725000000000001)\n",
            "      Predict: 0.0\n",
            "    Else (feature 0 > 6.5)\n",
            "     If (feature 7 <= 55.5)\n",
            "      Predict: 1.0\n",
            "     Else (feature 7 > 55.5)\n",
            "      Predict: 0.0\n",
            "   Else (feature 1 > 155.5)\n",
            "    If (feature 5 <= 28.95)\n",
            "     If (feature 0 <= 2.5)\n",
            "      Predict: 0.0\n",
            "     Else (feature 0 > 2.5)\n",
            "      If (feature 5 <= 26.25)\n",
            "       Predict: 1.0\n",
            "      Else (feature 5 > 26.25)\n",
            "       Predict: 0.0\n",
            "    Else (feature 5 > 28.95)\n",
            "     If (feature 5 <= 45.95)\n",
            "      Predict: 1.0\n",
            "     Else (feature 5 > 45.95)\n",
            "      If (feature 4 <= 102.5)\n",
            "       Predict: 1.0\n",
            "      Else (feature 4 > 102.5)\n",
            "       Predict: 0.0\n",
            "\n"
          ]
        }
      ]
    },
    {
      "cell_type": "code",
      "source": [
        "from pyspark.ml.evaluation import MulticlassClassificationEvaluator\n",
        "\n",
        "predictions = model.transform(traindata)\n",
        "evaluator=MulticlassClassificationEvaluator(labelCol=\"Outcome\",predictionCol=\"prediction\")"
      ],
      "metadata": {
        "id": "cgzsgDq_0AOn"
      },
      "execution_count": 17,
      "outputs": []
    },
    {
      "cell_type": "code",
      "source": [
        "acc = evaluator.setMetricName(\"accuracy\").evaluate(predictions)\n",
        "f1 = evaluator.setMetricName(\"f1\").evaluate(predictions)"
      ],
      "metadata": {
        "id": "mLa0tJO50VYz"
      },
      "execution_count": 33,
      "outputs": []
    },
    {
      "cell_type": "code",
      "source": [
        "print(f1)\n",
        "print(acc)"
      ],
      "metadata": {
        "colab": {
          "base_uri": "https://localhost:8080/"
        },
        "id": "bmwULWVVWO5x",
        "outputId": "5273a9d1-3907-4806-cca7-67a6117be44a"
      },
      "execution_count": 19,
      "outputs": [
        {
          "output_type": "stream",
          "name": "stdout",
          "text": [
            "0.8327767798945498\n",
            "0.8371428571428572\n"
          ]
        }
      ]
    },
    {
      "cell_type": "code",
      "source": [
        "from pyspark.mllib.evaluation import MulticlassMetrics\n",
        "\n",
        "\n",
        "# Extracting true labels and predicted labels\n",
        "true_labels = predictions.select(\"Outcome\").rdd.map(lambda x: x[0])\n",
        "predicted_labels = predictions.select(\"prediction\").rdd.map(lambda x: x[0])\n",
        "\n",
        "# Combine true labels and predicted labels into a RDD of label pairs\n",
        "predictionAndLabels = predicted_labels.zip(true_labels)\n",
        "\n",
        "# Instantiate MulticlassMetrics object\n",
        "metrics = MulticlassMetrics(predictionAndLabels)\n",
        "\n",
        "# Calculate recall for each class\n",
        "recall_per_class = metrics.recall(1)\n",
        "\n",
        "# Print recall for each class\n",
        "print(\"Recall per class:\", recall_per_class)"
      ],
      "metadata": {
        "colab": {
          "base_uri": "https://localhost:8080/"
        },
        "id": "BARmcOvmfkWN",
        "outputId": "7b6819d0-5896-4756-b0ca-7e9964380fe5"
      },
      "execution_count": 37,
      "outputs": [
        {
          "output_type": "stream",
          "name": "stdout",
          "text": [
            "Recall per class: 0.6748971193415638\n"
          ]
        }
      ]
    },
    {
      "cell_type": "code",
      "source": [
        "# Calculate the correlation matrix\n",
        "correlation_matrix = predictions.corr(\"Outcome\", \"prediction\")\n",
        "print(f\"correlation between the output and the predicted values: {correlation_matrix}\")"
      ],
      "metadata": {
        "colab": {
          "base_uri": "https://localhost:8080/"
        },
        "id": "S3gg5MQNf5hv",
        "outputId": "f822bba8-673d-4764-d88b-91f50c7d26ac"
      },
      "execution_count": 49,
      "outputs": [
        {
          "output_type": "stream",
          "name": "stdout",
          "text": [
            "correlation between the output and the predicted values: 0.6314552745855844\n"
          ]
        }
      ]
    },
    {
      "cell_type": "code",
      "source": [
        "predictions.show()"
      ],
      "metadata": {
        "colab": {
          "base_uri": "https://localhost:8080/"
        },
        "id": "lzt06F2CWR1K",
        "outputId": "c2333031-b959-4ec3-d686-10fe1eede53b"
      },
      "execution_count": 20,
      "outputs": [
        {
          "output_type": "stream",
          "name": "stdout",
          "text": [
            "+-----------+-------+-------------+-------------+-------+----+------------------------+---+-------+--------------------+-------------+--------------------+----------+\n",
            "|Pregnancies|Glucose|BloodPressure|SkinThickness|Insulin| BMI|DiabetesPedigreeFunction|Age|Outcome|       featureVector|rawPrediction|         probability|prediction|\n",
            "+-----------+-------+-------------+-------------+-------+----+------------------------+---+-------+--------------------+-------------+--------------------+----------+\n",
            "|          0|     57|           60|            0|      0|21.7|                   0.735| 67|    0.0|[0.0,57.0,60.0,0....|   [37.0,1.0]|[0.97368421052631...|       0.0|\n",
            "|          0|     67|           76|            0|      0|45.3|                   0.194| 46|    0.0|[0.0,67.0,76.0,0....|  [56.0,17.0]|[0.76712328767123...|       0.0|\n",
            "|          0|     73|            0|            0|      0|21.1|                   0.342| 25|    0.0|(8,[1,5,6,7],[73....|  [134.0,1.0]|[0.99259259259259...|       0.0|\n",
            "|          0|     74|           52|           10|     36|27.8|                   0.269| 22|    0.0|[0.0,74.0,52.0,10...|  [134.0,1.0]|[0.99259259259259...|       0.0|\n",
            "|          0|     78|           88|           29|     40|36.9|                   0.434| 21|    0.0|[0.0,78.0,88.0,29...|  [98.0,18.0]|[0.84482758620689...|       0.0|\n",
            "|          0|     84|           64|           22|     66|35.8|                   0.545| 21|    0.0|[0.0,84.0,64.0,22...|  [98.0,18.0]|[0.84482758620689...|       0.0|\n",
            "|          0|     84|           82|           31|    125|38.2|                   0.233| 23|    0.0|[0.0,84.0,82.0,31...|  [98.0,18.0]|[0.84482758620689...|       0.0|\n",
            "|          0|     86|           68|           32|      0|35.8|                   0.238| 25|    0.0|[0.0,86.0,68.0,32...|  [98.0,18.0]|[0.84482758620689...|       0.0|\n",
            "|          0|     91|           68|           32|    210|39.9|                   0.381| 25|    0.0|[0.0,91.0,68.0,32...|  [98.0,18.0]|[0.84482758620689...|       0.0|\n",
            "|          0|     91|           80|            0|      0|32.4|                   0.601| 27|    0.0|[0.0,91.0,80.0,0....|  [98.0,18.0]|[0.84482758620689...|       0.0|\n",
            "|          0|     93|           60|            0|      0|35.3|                   0.263| 25|    0.0|[0.0,93.0,60.0,0....|  [98.0,18.0]|[0.84482758620689...|       0.0|\n",
            "|          0|     93|          100|           39|     72|43.4|                   1.021| 35|    0.0|[0.0,93.0,100.0,3...|  [56.0,17.0]|[0.76712328767123...|       0.0|\n",
            "|          0|     94|            0|            0|      0| 0.0|                   0.256| 25|    0.0|(8,[1,6,7],[94.0,...|  [134.0,1.0]|[0.99259259259259...|       0.0|\n",
            "|          0|     94|           70|           27|    115|43.5|                   0.347| 21|    0.0|[0.0,94.0,70.0,27...|  [98.0,18.0]|[0.84482758620689...|       0.0|\n",
            "|          0|     95|           64|           39|    105|44.6|                   0.366| 22|    0.0|[0.0,95.0,64.0,39...|  [98.0,18.0]|[0.84482758620689...|       0.0|\n",
            "|          0|     95|           80|           45|     92|36.5|                    0.33| 26|    0.0|[0.0,95.0,80.0,45...|  [98.0,18.0]|[0.84482758620689...|       0.0|\n",
            "|          0|     95|           85|           25|     36|37.4|                   0.247| 24|    1.0|[0.0,95.0,85.0,25...|  [98.0,18.0]|[0.84482758620689...|       0.0|\n",
            "|          0|     97|           64|           36|    100|36.8|                     0.6| 25|    0.0|[0.0,97.0,64.0,36...|  [98.0,18.0]|[0.84482758620689...|       0.0|\n",
            "|          0|     98|           82|           15|     84|25.2|                   0.299| 22|    0.0|[0.0,98.0,82.0,15...|  [134.0,1.0]|[0.99259259259259...|       0.0|\n",
            "|          0|     99|            0|            0|      0|25.0|                   0.253| 22|    0.0|(8,[1,5,6,7],[99....|  [134.0,1.0]|[0.99259259259259...|       0.0|\n",
            "+-----------+-------+-------------+-------------+-------+----+------------------------+---+-------+--------------------+-------------+--------------------+----------+\n",
            "only showing top 20 rows\n",
            "\n"
          ]
        }
      ]
    },
    {
      "cell_type": "code",
      "source": [
        "testdata.drop(\"featureVector\")"
      ],
      "metadata": {
        "colab": {
          "base_uri": "https://localhost:8080/"
        },
        "id": "a0x5Xze_cFHP",
        "outputId": "befcae18-21aa-4ec6-fbfc-fdabc9e8041a"
      },
      "execution_count": 21,
      "outputs": [
        {
          "output_type": "execute_result",
          "data": {
            "text/plain": [
              "DataFrame[Pregnancies: int, Glucose: int, BloodPressure: int, SkinThickness: int, Insulin: int, BMI: double, DiabetesPedigreeFunction: double, Age: int, Outcome: double]"
            ]
          },
          "metadata": {},
          "execution_count": 21
        }
      ]
    },
    {
      "cell_type": "code",
      "source": [
        "from pyspark.ml.evaluation import MulticlassClassificationEvaluator\n",
        "\n",
        "testdata = vectorassembler.transform(testdata)\n",
        "tpredictions = model.transform(testdata)\n",
        "evaluator=MulticlassClassificationEvaluator(labelCol=\"Outcome\",predictionCol=\"prediction\")\n",
        "acc = evaluator.setMetricName(\"accuracy\").evaluate(tpredictions)\n",
        "f1 = evaluator.setMetricName(\"f1\").evaluate(tpredictions)\n",
        "print(f1)\n",
        "print(acc)"
      ],
      "metadata": {
        "colab": {
          "base_uri": "https://localhost:8080/"
        },
        "id": "Dx-VJ9tYWsvG",
        "outputId": "4cf5eb4c-dce8-4e86-a5ee-238407ff7837"
      },
      "execution_count": 22,
      "outputs": [
        {
          "output_type": "stream",
          "name": "stdout",
          "text": [
            "0.7031563845050215\n",
            "0.7205882352941176\n"
          ]
        }
      ]
    },
    {
      "cell_type": "code",
      "source": [
        "predictions.show()"
      ],
      "metadata": {
        "colab": {
          "base_uri": "https://localhost:8080/"
        },
        "id": "h2NAtNHqW74V",
        "outputId": "f401c72a-4b7c-4b79-99c9-2973fa155749"
      },
      "execution_count": 23,
      "outputs": [
        {
          "output_type": "stream",
          "name": "stdout",
          "text": [
            "+-----------+-------+-------------+-------------+-------+----+------------------------+---+-------+--------------------+-------------+--------------------+----------+\n",
            "|Pregnancies|Glucose|BloodPressure|SkinThickness|Insulin| BMI|DiabetesPedigreeFunction|Age|Outcome|       featureVector|rawPrediction|         probability|prediction|\n",
            "+-----------+-------+-------------+-------------+-------+----+------------------------+---+-------+--------------------+-------------+--------------------+----------+\n",
            "|          0|     57|           60|            0|      0|21.7|                   0.735| 67|    0.0|[0.0,57.0,60.0,0....|   [37.0,1.0]|[0.97368421052631...|       0.0|\n",
            "|          0|     67|           76|            0|      0|45.3|                   0.194| 46|    0.0|[0.0,67.0,76.0,0....|  [56.0,17.0]|[0.76712328767123...|       0.0|\n",
            "|          0|     73|            0|            0|      0|21.1|                   0.342| 25|    0.0|(8,[1,5,6,7],[73....|  [134.0,1.0]|[0.99259259259259...|       0.0|\n",
            "|          0|     74|           52|           10|     36|27.8|                   0.269| 22|    0.0|[0.0,74.0,52.0,10...|  [134.0,1.0]|[0.99259259259259...|       0.0|\n",
            "|          0|     78|           88|           29|     40|36.9|                   0.434| 21|    0.0|[0.0,78.0,88.0,29...|  [98.0,18.0]|[0.84482758620689...|       0.0|\n",
            "|          0|     84|           64|           22|     66|35.8|                   0.545| 21|    0.0|[0.0,84.0,64.0,22...|  [98.0,18.0]|[0.84482758620689...|       0.0|\n",
            "|          0|     84|           82|           31|    125|38.2|                   0.233| 23|    0.0|[0.0,84.0,82.0,31...|  [98.0,18.0]|[0.84482758620689...|       0.0|\n",
            "|          0|     86|           68|           32|      0|35.8|                   0.238| 25|    0.0|[0.0,86.0,68.0,32...|  [98.0,18.0]|[0.84482758620689...|       0.0|\n",
            "|          0|     91|           68|           32|    210|39.9|                   0.381| 25|    0.0|[0.0,91.0,68.0,32...|  [98.0,18.0]|[0.84482758620689...|       0.0|\n",
            "|          0|     91|           80|            0|      0|32.4|                   0.601| 27|    0.0|[0.0,91.0,80.0,0....|  [98.0,18.0]|[0.84482758620689...|       0.0|\n",
            "|          0|     93|           60|            0|      0|35.3|                   0.263| 25|    0.0|[0.0,93.0,60.0,0....|  [98.0,18.0]|[0.84482758620689...|       0.0|\n",
            "|          0|     93|          100|           39|     72|43.4|                   1.021| 35|    0.0|[0.0,93.0,100.0,3...|  [56.0,17.0]|[0.76712328767123...|       0.0|\n",
            "|          0|     94|            0|            0|      0| 0.0|                   0.256| 25|    0.0|(8,[1,6,7],[94.0,...|  [134.0,1.0]|[0.99259259259259...|       0.0|\n",
            "|          0|     94|           70|           27|    115|43.5|                   0.347| 21|    0.0|[0.0,94.0,70.0,27...|  [98.0,18.0]|[0.84482758620689...|       0.0|\n",
            "|          0|     95|           64|           39|    105|44.6|                   0.366| 22|    0.0|[0.0,95.0,64.0,39...|  [98.0,18.0]|[0.84482758620689...|       0.0|\n",
            "|          0|     95|           80|           45|     92|36.5|                    0.33| 26|    0.0|[0.0,95.0,80.0,45...|  [98.0,18.0]|[0.84482758620689...|       0.0|\n",
            "|          0|     95|           85|           25|     36|37.4|                   0.247| 24|    1.0|[0.0,95.0,85.0,25...|  [98.0,18.0]|[0.84482758620689...|       0.0|\n",
            "|          0|     97|           64|           36|    100|36.8|                     0.6| 25|    0.0|[0.0,97.0,64.0,36...|  [98.0,18.0]|[0.84482758620689...|       0.0|\n",
            "|          0|     98|           82|           15|     84|25.2|                   0.299| 22|    0.0|[0.0,98.0,82.0,15...|  [134.0,1.0]|[0.99259259259259...|       0.0|\n",
            "|          0|     99|            0|            0|      0|25.0|                   0.253| 22|    0.0|(8,[1,5,6,7],[99....|  [134.0,1.0]|[0.99259259259259...|       0.0|\n",
            "+-----------+-------+-------------+-------------+-------+----+------------------------+---+-------+--------------------+-------------+--------------------+----------+\n",
            "only showing top 20 rows\n",
            "\n"
          ]
        }
      ]
    },
    {
      "cell_type": "code",
      "source": [
        "import matplotlib.pyplot as plt\n",
        "\n",
        "# Create a figure and subplots\n",
        "fig, axs = plt.subplots(1, 2)  # 1 rows, 2 columns\n",
        "\n",
        "# Plot data on the first subplot (top-left)\n",
        "axs[0].plot(predictions.select(\"Outcome\").collect(), predictions.select(\"prediction\").collect(), color='green')\n",
        "\n",
        "# Plot data on the second subplot (top-right)\n",
        "axs[1].plot(tpredictions.select(\"Outcome\").collect(), tpredictions.select(\"prediction\").collect(), color='blue')\n",
        "\n",
        "# The TypeError \"Column object is not callable\" occurs because you're trying to call a Column object as if it were a function. In PySpark, when you use select() method on a DataFrame, it returns a Column object, not a DataFrame.\n",
        "# To fix the error, you need to extract the values from the Column objects before plotting them. You can use the collect() method to collect the values into a list or array. Here's how you can modify your code:"
      ],
      "metadata": {
        "colab": {
          "base_uri": "https://localhost:8080/",
          "height": 448
        },
        "id": "MJPIOtV_adty",
        "outputId": "e5842f49-67ef-46c9-d2e4-febe7bf8b59f"
      },
      "execution_count": 31,
      "outputs": [
        {
          "output_type": "execute_result",
          "data": {
            "text/plain": [
              "[<matplotlib.lines.Line2D at 0x7edccc6ac040>]"
            ]
          },
          "metadata": {},
          "execution_count": 31
        },
        {
          "output_type": "display_data",
          "data": {
            "text/plain": [
              "<Figure size 640x480 with 2 Axes>"
            ],
            "image/png": "[encoded data removed]"
          },
          "metadata": {}
        }
      ]
    },
    {
      "cell_type": "code",
      "source": [],
      "metadata": {
        "id": "SUYvrzU4cyGL"
      },
      "execution_count": null,
      "outputs": []
    }
  ]
}